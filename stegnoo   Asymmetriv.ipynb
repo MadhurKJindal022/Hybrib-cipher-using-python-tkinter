{
 "cells": [
  {
   "cell_type": "code",
   "execution_count": 1,
   "id": "3884d86c",
   "metadata": {},
   "outputs": [],
   "source": [
    "from tkinter import *\n",
    "import tkinter as tk\n",
    "from tkinter import messagebox, filedialog\n",
    "from PIL import Image, ImageTk\n",
    "import base64\n",
    "import os\n",
    "import random\n",
    "#from colorthief import ColorThief\n",
    "from tkinter import filedialog\n",
    "from stegano import lsb\n",
    "\n",
    "from Crypto.PublicKey import RSA\n",
    "from Crypto.Cipher import PKCS1_OAEP\n",
    "import binascii"
   ]
  },
  {
   "cell_type": "code",
   "execution_count": 2,
   "id": "25f9c4bf",
   "metadata": {},
   "outputs": [
    {
     "name": "stdout",
     "output_type": "stream",
     "text": [
      "Enter the E - Key: 1\n",
      "Enter the D - Key: 1\n"
     ]
    }
   ],
   "source": [
    "keyE = str(input(\"Enter the E - Key: \"))\n",
    "keyD = str(input(\"Enter the D - Key: \"))"
   ]
  },
  {
   "cell_type": "code",
   "execution_count": 3,
   "id": "6bcca292",
   "metadata": {},
   "outputs": [
    {
     "name": "stdout",
     "output_type": "stream",
     "text": [
      "Enter a message to encrypt: efbef\n"
     ]
    },
    {
     "ename": "NameError",
     "evalue": "name 'publicKey' is not defined",
     "output_type": "error",
     "traceback": [
      "\u001b[1;31m---------------------------------------------------------------------------\u001b[0m",
      "\u001b[1;31mNameError\u001b[0m                                 Traceback (most recent call last)",
      "Cell \u001b[1;32mIn[3], line 5\u001b[0m\n\u001b[0;32m      2\u001b[0m message \u001b[38;5;241m=\u001b[39m \u001b[38;5;28minput\u001b[39m(\u001b[38;5;124m\"\u001b[39m\u001b[38;5;124mEnter a message to encrypt: \u001b[39m\u001b[38;5;124m\"\u001b[39m)\u001b[38;5;241m.\u001b[39mencode()\n\u001b[0;32m      4\u001b[0m \u001b[38;5;66;03m# Encrypt the message\u001b[39;00m\n\u001b[1;32m----> 5\u001b[0m cipher \u001b[38;5;241m=\u001b[39m PKCS1_OAEP\u001b[38;5;241m.\u001b[39mnew(publicKey)\n\u001b[0;32m      6\u001b[0m encrypted \u001b[38;5;241m=\u001b[39m cipher\u001b[38;5;241m.\u001b[39mencrypt(message)\n\u001b[0;32m      7\u001b[0m \u001b[38;5;28mprint\u001b[39m(\u001b[38;5;124m\"\u001b[39m\u001b[38;5;124mEncrypted:\u001b[39m\u001b[38;5;124m\"\u001b[39m, binascii\u001b[38;5;241m.\u001b[39mhexlify(encrypted))\n",
      "\u001b[1;31mNameError\u001b[0m: name 'publicKey' is not defined"
     ]
    }
   ],
   "source": [
    "# Get message from user input\n",
    "message = input(\"Enter a message to encrypt: \").encode()\n",
    "\n",
    "# Encrypt the message\n",
    "cipher = PKCS1_OAEP.new(publicKey)\n",
    "encrypted = cipher.encrypt(message)\n",
    "print(\"Encrypted:\", binascii.hexlify(encrypted))\n",
    "\n",
    "# Prompt user to input encrypted message\n",
    "encrypted_input = input(\"Enter the encrypted message in hexadecimal format: \")\n",
    "\n",
    "# Decode the hexadecimal input and decrypt it\n",
    "encrypted_message = binascii.unhexlify(encrypted_input)\n",
    "decryptor = PKCS1_OAEP.new(privateKey)\n",
    "decrypted = decryptor.decrypt(encrypted_message)\n",
    "print('Decrypted:', decrypted.decode())\n"
   ]
  },
  {
   "cell_type": "code",
   "execution_count": 52,
   "id": "2d1c20fd",
   "metadata": {},
   "outputs": [],
   "source": []
  },
  {
   "cell_type": "code",
   "execution_count": 4,
   "id": "69f277a3",
   "metadata": {},
   "outputs": [],
   "source": [
    "def showimage():\n",
    "    global filename\n",
    "    filetypes=((\"PNG file\",\"*.png\"),(\"JPG File\",\"*.jpg\"),(\"All file\",\"*.txt\"))\n",
    "    filename=filedialog.askopenfilename(initialdir=os.getcwd(),\n",
    "                                       title='Select Image File',\n",
    "                                       filetype=filetypes)\n",
    "    img=Image.open(filename)\n",
    "    img=ImageTk.PhotoImage(img)\n",
    "    lbl.configure(image=img,width=250,height=250)\n",
    "    lbl.image=img \n",
    "    \n",
    "def save():\n",
    "    secret.save(\"C:\\\\Users\\\\HP\\\\OneDrive\\\\Pictures\\\\hidden.png\")\n",
    "    \n",
    "def Hide():\n",
    "    global secret\n",
    "    password=code.get()\n",
    "    if password==keyE:\n",
    "        message=text1.get(1.0,END)\n",
    "        secret = lsb.hide(str(filename), message)\n",
    "    elif password !=keyE:\n",
    "        messagebox.showerror(\"encryption\",\"INVALID Password\")\n",
    "    \n",
    "def Show():\n",
    "    password=code.get()\n",
    "    if password==keyD:\n",
    "        clear_message = lsb.reveal(filename)\n",
    "        text1.delete(1.0,END)\n",
    "        text1.insert(END, clear_message)\n",
    "    elif password !=keyD:\n",
    "        messagebox.showerror(\"encryption\",\"INVALID Password\") "
   ]
  },
  {
   "cell_type": "code",
   "execution_count": 5,
   "id": "9f2cedc8",
   "metadata": {},
   "outputs": [],
   "source": [
    "global root\n",
    "global text1\n",
    "\n",
    "root = Tk()\n",
    "root.title(\"Stegnography - Hide a secret Key\")\n",
    "root.geometry(\"700x620+250+180\")\n",
    "root.resizable(False,False)\n",
    "root.configure(bg=\"#2f4155\")\n",
    "\n",
    "def RSA_E():\n",
    "    message = text1.get(1.0, END).encode()\n",
    "    cipher = PKCS1_OAEP.new(publicKey)\n",
    "    encrypted = cipher.encrypt(message)\n",
    "    text1.delete(1.0, END)\n",
    "    text1.insert(END, binascii.hexlify(encrypted).decode())\n",
    "\n",
    "def RSA_D():\n",
    "    encrypted_message_hex = text1.get(1.0, END).strip()\n",
    "    encrypted_message = binascii.unhexlify(encrypted_message_hex)\n",
    "    decryptor = PKCS1_OAEP.new(privateKey)\n",
    "    decrypted = decryptor.decrypt(encrypted_message)\n",
    "    text1.delete(1.0, END)\n",
    "    text1.insert(END, decrypted.decode())   \n",
    "    \n",
    "# Load RSA keys\n",
    "with open('private.pem', 'rb') as f:\n",
    "    privateKey = RSA.import_key(f.read())\n",
    "\n",
    "with open('public.pem', 'rb') as f:\n",
    "    publicKey = RSA.import_key(f.read())    \n",
    "\n",
    "#image = Image.open('C:\\\\Users\\\\HP\\\\OneDrive\\\\Pictures\\\\lkicon.png')\n",
    "#imge=image.resize((75,105))\n",
    "#logo=ImageTk.PhotoImage(imge)\n",
    "#Label(root,image=logo,bg=\"#2f4155\").place(x=10,y=0)\n",
    "Label(root,text=\"SECRET KEY SHARING\",bg=\"#2d4155\",fg=\"white\",font=\"arial 25 bold\").place(x=100,y=20)\n",
    "\n",
    "\n",
    "f=Frame(root,bd=3,bg=\"black\",width=340,height=280,relief=GROOVE)\n",
    "f.place(x=10,y=110)\n",
    "\n",
    "lbl = Label(f,bg=\"black\")\n",
    "lbl.place(x=40,y=10)\n",
    "\n",
    "frame1=Frame(root,bd=3,bg=\"#2f4155\",width=680,height=90,relief=GROOVE)\n",
    "frame1.place(x=10,y=500)\n",
    "\n",
    "#key text frame\n",
    "code=StringVar()\n",
    "Entry(textvariable=code,width=23,bd=5,background=\"#E5E4E2\",font=(\"arial\",20),show=\"*\").place(x=300,y=522)\n",
    "\n",
    "Button(frame1,text='PUBLIC',width=8,height=2,bg=\"#900d09\",font=\"arial 14 bold\",fg=\"white\",command=RSA_E).place(x=20,y=15)\n",
    "Button(frame1,text='PRIVATE',width=8,height=2,font=\"arial 14 bold\",bg=\"#466d1d\",fg=\"white\",command=RSA_D).place(x=125,y=15)\n",
    "\n",
    "#upper frame\n",
    "frame2=Frame(root,bd=3,bg=\"white\",width=340,height=280,relief=GROOVE)\n",
    "frame2.place(x=350,y=110)\n",
    "\n",
    "text1=Text(frame2,font=\"Robote 14\",bg=\"white\",fg=\"black\",relief=\"groove\",wrap=WORD)\n",
    "text1.place(x=0,y=0,width=340,height=295)\n",
    "\n",
    "\n",
    "scrollbar1=Scrollbar(frame2)\n",
    "scrollbar1.place(x=320,y=0,height=275)\n",
    "\n",
    "scrollbar1.configure(command=text1.yview)\n",
    "text1.configure(yscrollcommand=scrollbar1.set)\n",
    "\n",
    "\n",
    "frame3=Frame(root,bd=3,bg=\"#2f4155\",width=330,height=100,relief=GROOVE)\n",
    "frame3.place(x=10,y=400)\n",
    "\n",
    "Button(frame3,text='Open Image',width=10,height=2,font=\"arial 14 bold\",command=showimage).place(x=20,y=20)\n",
    "Button(frame3,text='Save image',width=10,height=2,font=\"arial 14 bold\",command=save).place(x=180,y=20)\n",
    "Label(frame3,text=\"Picture, Image, Photo file\",bg=\"#2f4155\",fg=\"yellow\").place(x=20,y=5)\n",
    "\n",
    "\n",
    "frame4=Frame(root,bd=3,bg=\"#2f4155\",width=330,height=100,relief=GROOVE)\n",
    "frame4.place(x=360,y=400)\n",
    "\n",
    "Button(frame4,text='Hide Data',width=10,height=2,font=\"arial 14 bold\",command=Hide).place(x=20,y=20)\n",
    "Button(frame4,text='Show Data',width=10,height=2,font=\"arial 14 bold\",command=Show).place(x=180,y=20)\n",
    "Label(frame4,text=\"Picture, Image, Photo file\",bg=\"#2f4155\",fg=\"yellow\").place(x=20,y=5)\n",
    "\n",
    "\n",
    "root.mainloop()"
   ]
  },
  {
   "cell_type": "code",
   "execution_count": null,
   "id": "86130c75",
   "metadata": {},
   "outputs": [],
   "source": []
  }
 ],
 "metadata": {
  "kernelspec": {
   "display_name": "Python 3 (ipykernel)",
   "language": "python",
   "name": "python3"
  },
  "language_info": {
   "codemirror_mode": {
    "name": "ipython",
    "version": 3
   },
   "file_extension": ".py",
   "mimetype": "text/x-python",
   "name": "python",
   "nbconvert_exporter": "python",
   "pygments_lexer": "ipython3",
   "version": "3.11.5"
  }
 },
 "nbformat": 4,
 "nbformat_minor": 5
}
